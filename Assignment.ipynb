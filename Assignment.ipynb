{
 "metadata": {
  "language_info": {
   "codemirror_mode": {
    "name": "ipython",
    "version": 3
   },
   "file_extension": ".py",
   "mimetype": "text/x-python",
   "name": "python",
   "nbconvert_exporter": "python",
   "pygments_lexer": "ipython3",
   "version": "3.8.5-final"
  },
  "orig_nbformat": 2,
  "kernelspec": {
   "name": "python_defaultSpec_1608655346962",
   "display_name": "Python 3.8.5 32-bit"
  }
 },
 "nbformat": 4,
 "nbformat_minor": 2,
 "cells": [
  {
   "cell_type": "markdown",
   "metadata": {},
   "source": [
    "# This jupyter notebook extracts metadata from the given pdf file."
   ]
  },
  {
   "cell_type": "markdown",
   "metadata": {},
   "source": [
    "### As a Pre-requisite to deal with pdf file, installing PyPDF4 library. Other popular library such as PyPDF, pdfminer and textract libraries are missing new lines for the given document which combines two words and also miss cell data in the pdf file which turns into important data loss."
   ]
  },
  {
   "cell_type": "code",
   "execution_count": 1,
   "metadata": {
    "tags": []
   },
   "outputs": [
    {
     "output_type": "stream",
     "name": "stdout",
     "text": "Requirement already satisfied: PyPDF4 in c:\\softwares\\lib\\site-packages (1.27.0)\n"
    }
   ],
   "source": [
    "import sys\n",
    "!{sys.executable} -m pip install PyPDF4"
   ]
  },
  {
   "cell_type": "code",
   "execution_count": 2,
   "metadata": {
    "tags": []
   },
   "outputs": [],
   "source": [
    "import PyPDF4\n",
    "import re\n",
    "import io"
   ]
  },
  {
   "cell_type": "markdown",
   "metadata": {},
   "source": [
    "### reads pdf file and converts pdf file to raw text data."
   ]
  },
  {
   "cell_type": "code",
   "execution_count": 3,
   "metadata": {
    "tags": []
   },
   "outputs": [],
   "source": [
    "def  extract_text(file):\n",
    "    pdfFileObj = open(file, 'rb')\n",
    "    pdfReader = PyPDF4.PdfFileReader(pdfFileObj)\n",
    "\n",
    "    text = []\n",
    "    for pageNo in range(pdfReader.getNumPages()):\n",
    "        pageObj = pdfReader.getPage(pageNo)\n",
    "        pages_text  = pageObj.extractText()\n",
    "\n",
    "        # spliting data to list of lines, so that it becaomes easy to find cell data.\n",
    "        text = text + pages_text.split('\\n')\n",
    "\n",
    "    return text"
   ]
  },
  {
   "cell_type": "markdown",
   "metadata": {},
   "source": [
    "### extracts applicant data from the plain text. To deal with blank cells using, filters to get data."
   ]
  },
  {
   "cell_type": "code",
   "execution_count": 4,
   "metadata": {},
   "outputs": [],
   "source": [
    "def extract_applDetail(data):\n",
    "    flag = False\n",
    "    apName = ''\n",
    "    apAddress = ''\n",
    "    apcompName = ''\n",
    "\n",
    "    for k, v in enumerate(data):\n",
    "        # limiting loop to find only specific metadata\n",
    "        if v == \"2. Applicant Details\":\n",
    "            flag = True\n",
    "            continue\n",
    "\n",
    "        if flag:\n",
    "            # checking for first name cell data\n",
    "            if v == \"First Name\" and data[k+1] != 'Surname':\n",
    "                apName = apName + data[k+1]\n",
    "                continue\n",
    "\n",
    "            # checking for surname cell data\n",
    "            if v == 'Surname' and data[k+1] != 'Company name':\n",
    "                apName = apName + ' ' + data[k+1]\n",
    "                continue\n",
    "\n",
    "            # checking for company cell data\n",
    "            if v == 'Company name' and data[k+1] != 'Address line 1':\n",
    "                apcompName = apcompName + data[k+1]\n",
    "                continue\n",
    "\n",
    "            # cehcking for address line data and so on\n",
    "            if v == 'Address line 1' and data[k+1] != 'Address line 2':\n",
    "                apAddress = apAddress + data[k+1]\n",
    "                continue\n",
    "            if v == 'Address line 2' and data[k+1] != 'Address line 3':\n",
    "                apAddress = apAddress + ' ' + data[k+1]\n",
    "                continue\n",
    "            if v == 'Address line 3' and data[k+1] != 'Town/city':\n",
    "                apAddress = apAddress + ' ' + data[k+1]\n",
    "                continue\n",
    "            if v == 'Town/city' and data[k+1] != 'Country':\n",
    "                apAddress = apAddress + ', ' + data[k+1]\n",
    "                continue\n",
    "            if v == 'Country' and not data[k+1].startswith('Planning Portal'):\n",
    "                apAddress = apAddress + ', ' + data[k+1]\n",
    "\n",
    "            # breaks the loop when address field completed\n",
    "            if v == 'Postcode':\n",
    "                break\n",
    "            \n",
    "    return apName, apcompName, apAddress"
   ]
  },
  {
   "cell_type": "markdown",
   "metadata": {},
   "source": [
    "### extracts agent data from the plain text. Applying same filters like above."
   ]
  },
  {
   "cell_type": "code",
   "execution_count": 5,
   "metadata": {},
   "outputs": [],
   "source": [
    "def extract_agentDetail(data):\n",
    "    flag = False\n",
    "    agName = ''\n",
    "    agAddress = ''\n",
    "    agcompName = ''\n",
    "\n",
    "    for k, v in enumerate(data):\n",
    "        if v == \"3. Agent Details\":\n",
    "            flag = True\n",
    "            continue\n",
    "\n",
    "        if flag:\n",
    "            if v == \"First name\" and data[k+1] != 'Surname':\n",
    "                agName = agName + data[k+1]\n",
    "                continue\n",
    "            if v == 'Surname' and data[k+1] != 'Company name':\n",
    "                agName = agName + ' ' + data[k+1]\n",
    "                continue\n",
    "            if v == 'Company name' and data[k+1] != 'Address line 1':\n",
    "                agcompName = agcompName + data[k+1]\n",
    "                continue\n",
    "            if v == 'Address line 1' and data[k+1] != 'Address line 2':\n",
    "                agAddress = agAddress + data[k+1]\n",
    "                continue\n",
    "            if v == 'Address line 2' and data[k+1] != 'Address line 3':\n",
    "                agAddress = agAddress + ' ' + data[k+1]\n",
    "                continue\n",
    "            if v == 'Address line 3' and data[k+1] != 'Town/city':\n",
    "                agAddress = agAddress + ' ' + data[k+1]\n",
    "                continue\n",
    "            if v == 'Town/city' and data[k+1] != 'Country':\n",
    "                agAddress = agAddress + ', ' + data[k+1]\n",
    "                continue\n",
    "            if v == 'Country' and data[k+1] != 'Postcode':\n",
    "                agAddress = agAddress + ', ' + data[k+1]\n",
    "            if v == 'Postcode':\n",
    "                break\n",
    "            \n",
    "    return agName, agcompName, agAddress"
   ]
  },
  {
   "cell_type": "markdown",
   "metadata": {},
   "source": [
    "### extracts proposed materials data."
   ]
  },
  {
   "cell_type": "code",
   "execution_count": 6,
   "metadata": {},
   "outputs": [],
   "source": [
    "def extract_proposed_materials(data):\n",
    "    flag = False\n",
    "    materials = []\n",
    "\n",
    "    for k, v in enumerate(data):\n",
    "        if v == '7. Materials':\n",
    "            flag = True\n",
    "            continue\n",
    "\n",
    "        if flag:\n",
    "            if v == 'Description of proposed materials and finishes:':\n",
    "                materials.append(data[k+1])\n",
    "                continue\n",
    "            if v == '8. Pedestrian and Vehicle Access, Roads and Rights of Way':\n",
    "                break\n",
    "    \n",
    "    return materials"
   ]
  },
  {
   "cell_type": "code",
   "execution_count": 7,
   "metadata": {},
   "outputs": [],
   "source": [
    "text = extract_text('Assignment.pdf')\n",
    "App_Name, App_CompName, App_Addresss = extract_applDetail(text)\n",
    "Agent_Name, Agent_CompName, Agent_Addresss = extract_agentDetail(text)\n",
    "materials = extract_proposed_materials(text)"
   ]
  },
  {
   "cell_type": "code",
   "execution_count": 8,
   "metadata": {
    "tags": []
   },
   "outputs": [
    {
     "output_type": "stream",
     "name": "stdout",
     "text": "Applicant Name:  Amin,\nApplicant Company Name: Britbuild Properties Ltd,\nApplicant Address: 166 Weir Road, London, United Kingdom\n"
    }
   ],
   "source": [
    "print('Applicant Name: {0},\\nApplicant Company Name: {1},\\nApplicant Address: {2}'.format(App_Name, App_CompName, App_Addresss))"
   ]
  },
  {
   "cell_type": "code",
   "execution_count": 9,
   "metadata": {
    "tags": []
   },
   "outputs": [
    {
     "output_type": "stream",
     "name": "stdout",
     "text": "Agent Name: Ellen Creegan,\nAgent Company Name: Iceni Projects,\nAgent Address: This is the Space 68 Quay Street, Manchester\n"
    }
   ],
   "source": [
    "print('Agent Name: {0},\\nAgent Company Name: {1},\\nAgent Address: {2}'.format(Agent_Name, Agent_CompName, Agent_Addresss))"
   ]
  },
  {
   "cell_type": "code",
   "execution_count": 10,
   "metadata": {
    "tags": []
   },
   "outputs": [
    {
     "output_type": "stream",
     "name": "stdout",
     "text": "Proposed Materials:  ['Stock brickwork', 'Zinc cladding', 'Aluminium clad timber glazed windows', 'Aluminium clad timber doors']\n"
    }
   ],
   "source": [
    "print('Proposed Materials: ', materials)"
   ]
  }
 ]
}